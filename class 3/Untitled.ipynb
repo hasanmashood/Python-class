{
 "cells": [
  {
   "cell_type": "markdown",
   "id": "6ba4d0a5",
   "metadata": {},
   "source": [
    "#text formating/ formation/conactination"
   ]
  },
  {
   "cell_type": "code",
   "execution_count": 1,
   "id": "d5d54df5",
   "metadata": {},
   "outputs": [
    {
     "name": "stdout",
     "output_type": "stream",
     "text": [
      "hasan\n"
     ]
    }
   ],
   "source": [
    "first name = \"hasan\"\n",
    "\n",
    "print(first name)"
   ]
  },
  {
   "cell_type": "code",
   "execution_count": 3,
   "id": "f5d439ef",
   "metadata": {},
   "outputs": [
    {
     "name": "stdout",
     "output_type": "stream",
     "text": [
      "5\n",
      "5\n",
      "5\n"
     ]
    }
   ],
   "source": [
    "a = len(\"hasan\") #return function \n",
    "print(a)\n",
    "print(a)\n",
    "print(a)"
   ]
  },
  {
   "cell_type": "code",
   "execution_count": 4,
   "id": "ae1d0163",
   "metadata": {},
   "outputs": [
    {
     "name": "stdout",
     "output_type": "stream",
     "text": [
      "hasan\n",
      "None\n",
      "None\n",
      "None\n"
     ]
    }
   ],
   "source": [
    "a = print(\"hasan\") #non#return function \n",
    "print(a)\n",
    "print(a)\n",
    "print(a)\n"
   ]
  },
  {
   "cell_type": "markdown",
   "id": "a24e12e4",
   "metadata": {},
   "source": [
    "#Concatenation\n",
    "\n",
    "* +\n",
    "\n",
    "* variable_name.format(var1,var2,var3)\n",
    "\n",
    "* f'Student name\n"
   ]
  },
  {
   "cell_type": "code",
   "execution_count": 8,
   "id": "460f4189",
   "metadata": {},
   "outputs": [
    {
     "name": "stdout",
     "output_type": "stream",
     "text": [
      "institute_name smit\n",
      "student fulname hasan  mashood\n"
     ]
    }
   ],
   "source": [
    "first_name = \"hasan\"\n",
    "last_name = \"mashood\"\n",
    "institute_name = \"smit\"\n",
    "\n",
    "card = \"institute_name \" +institute_name +\"\\nstudent fulname \"+ first_name + \"  \" + last_name\n",
    "\n",
    "print(card)\n"
   ]
  },
  {
   "cell_type": "code",
   "execution_count": 9,
   "id": "83207cc0",
   "metadata": {},
   "outputs": [
    {
     "name": "stdout",
     "output_type": "stream",
     "text": [
      "institute_name smit\n",
      "student fulname hasan  mashood\n"
     ]
    }
   ],
   "source": [
    "first_name = \"hasan\"\n",
    "last_name = \"mashood\"\n",
    "institute_name = \"smit\"\n",
    "\n",
    "card = \"institute_name \" +institute_name +\"\\nstudent fulname \"+ first_name + \"  \" + last_name\n",
    "\n",
    "print(card)\n"
   ]
  },
  {
   "cell_type": "code",
   "execution_count": 10,
   "id": "f13c9fd9",
   "metadata": {},
   "outputs": [
    {
     "name": "stdout",
     "output_type": "stream",
     "text": [
      "20 <class 'int'>\n"
     ]
    }
   ],
   "source": [
    "age = 20\n",
    "print(age,type(age))\n",
    " \n",
    " #typecasting   \n"
   ]
  },
  {
   "cell_type": "code",
   "execution_count": 19,
   "id": "8ca0b935",
   "metadata": {},
   "outputs": [
    {
     "ename": "NameError",
     "evalue": "name 'institiute_name' is not defined",
     "output_type": "error",
     "traceback": [
      "\u001b[1;31m---------------------------------------------------------------------------\u001b[0m",
      "\u001b[1;31mNameError\u001b[0m                                 Traceback (most recent call last)",
      "\u001b[1;32m~\\AppData\\Local\\Temp\\ipykernel_4112\\3230007500.py\u001b[0m in \u001b[0;36m<module>\u001b[1;34m\u001b[0m\n\u001b[0;32m      8\u001b[0m \u001b[0mage\u001b[0m\u001b[1;33m:\u001b[0m \u001b[1;33m{\u001b[0m\u001b[1;33m}\u001b[0m\u001b[1;33m\u001b[0m\u001b[1;33m\u001b[0m\u001b[0m\n\u001b[0;32m      9\u001b[0m \u001b[1;33m\u001b[0m\u001b[0m\n\u001b[1;32m---> 10\u001b[1;33m \"\"\".format(institiute_name,first_name,last_name,age)\n\u001b[0m\u001b[0;32m     11\u001b[0m \u001b[1;33m\u001b[0m\u001b[0m\n\u001b[0;32m     12\u001b[0m \u001b[0mprint\u001b[0m\u001b[1;33m(\u001b[0m\u001b[0mcard\u001b[0m\u001b[1;33m)\u001b[0m\u001b[1;33m\u001b[0m\u001b[1;33m\u001b[0m\u001b[0m\n",
      "\u001b[1;31mNameError\u001b[0m: name 'institiute_name' is not defined"
     ]
    }
   ],
   "source": [
    "first_name = \"hasan\"\n",
    "last_name = \"mashood\"\n",
    "institute_name = \"smit\"\n",
    "age = 30\n",
    "\n",
    "card = \"\"\"institute_name:{} \n",
    "student full name:{} {}\n",
    "age: {}\n",
    "\n",
    "\"\"\".format(institiute_name,first_name,last_name,age)\n",
    "\n",
    "print(card)\n"
   ]
  },
  {
   "cell_type": "code",
   "execution_count": 15,
   "id": "64450350",
   "metadata": {},
   "outputs": [
    {
     "name": "stdout",
     "output_type": "stream",
     "text": [
      "institute_name:smit \n",
      "student full name:hasan mashood\n",
      "age: 30\n",
      "\n",
      "\n"
     ]
    }
   ],
   "source": [
    "first_name = \"hasan\"\n",
    "last_name = \"mashood\"\n",
    "institute_name = \"smit\"\n",
    "age = \"30\"\n",
    "\n",
    "card = f\"\"\"institute_name:{institute_name} \n",
    "student full name:{first_name} {last_name}\n",
    "age: {age}\n",
    "\n",
    "\"\"\"\n",
    "print(card)\n"
   ]
  },
  {
   "cell_type": "code",
   "execution_count": 20,
   "id": "efe77a36",
   "metadata": {},
   "outputs": [
    {
     "name": "stdout",
     "output_type": "stream",
     "text": [
      "institute_name:smit \n",
      "student full name:hasan mashood\n",
      "age: 30\n",
      "\n",
      "\n"
     ]
    }
   ],
   "source": [
    "\n",
    "print(card)\n"
   ]
  },
  {
   "cell_type": "code",
   "execution_count": 21,
   "id": "ab0a62ab",
   "metadata": {},
   "outputs": [
    {
     "data": {
      "text/plain": [
       "['__add__',\n",
       " '__class__',\n",
       " '__contains__',\n",
       " '__delattr__',\n",
       " '__dir__',\n",
       " '__doc__',\n",
       " '__eq__',\n",
       " '__format__',\n",
       " '__ge__',\n",
       " '__getattribute__',\n",
       " '__getitem__',\n",
       " '__getnewargs__',\n",
       " '__gt__',\n",
       " '__hash__',\n",
       " '__init__',\n",
       " '__init_subclass__',\n",
       " '__iter__',\n",
       " '__le__',\n",
       " '__len__',\n",
       " '__lt__',\n",
       " '__mod__',\n",
       " '__mul__',\n",
       " '__ne__',\n",
       " '__new__',\n",
       " '__reduce__',\n",
       " '__reduce_ex__',\n",
       " '__repr__',\n",
       " '__rmod__',\n",
       " '__rmul__',\n",
       " '__setattr__',\n",
       " '__sizeof__',\n",
       " '__str__',\n",
       " '__subclasshook__',\n",
       " 'capitalize',\n",
       " 'casefold',\n",
       " 'center',\n",
       " 'count',\n",
       " 'encode',\n",
       " 'endswith',\n",
       " 'expandtabs',\n",
       " 'find',\n",
       " 'format',\n",
       " 'format_map',\n",
       " 'index',\n",
       " 'isalnum',\n",
       " 'isalpha',\n",
       " 'isascii',\n",
       " 'isdecimal',\n",
       " 'isdigit',\n",
       " 'isidentifier',\n",
       " 'islower',\n",
       " 'isnumeric',\n",
       " 'isprintable',\n",
       " 'isspace',\n",
       " 'istitle',\n",
       " 'isupper',\n",
       " 'join',\n",
       " 'ljust',\n",
       " 'lower',\n",
       " 'lstrip',\n",
       " 'maketrans',\n",
       " 'partition',\n",
       " 'removeprefix',\n",
       " 'removesuffix',\n",
       " 'replace',\n",
       " 'rfind',\n",
       " 'rindex',\n",
       " 'rjust',\n",
       " 'rpartition',\n",
       " 'rsplit',\n",
       " 'rstrip',\n",
       " 'split',\n",
       " 'splitlines',\n",
       " 'startswith',\n",
       " 'strip',\n",
       " 'swapcase',\n",
       " 'title',\n",
       " 'translate',\n",
       " 'upper',\n",
       " 'zfill']"
      ]
     },
     "execution_count": 21,
     "metadata": {},
     "output_type": "execute_result"
    }
   ],
   "source": [
    "dir(card)"
   ]
  },
  {
   "cell_type": "code",
   "execution_count": 22,
   "id": "dc84cdbc",
   "metadata": {},
   "outputs": [
    {
     "name": "stdout",
     "output_type": "stream",
     "text": [
      "Institute_name:smit \n",
      "student full name:hasan mashood\n",
      "age: 30\n",
      "\n",
      "\n"
     ]
    }
   ],
   "source": [
    "print(card.capitalize())"
   ]
  },
  {
   "cell_type": "code",
   "execution_count": 24,
   "id": "cb2ddfdc",
   "metadata": {},
   "outputs": [
    {
     "name": "stdout",
     "output_type": "stream",
     "text": [
      "institute_name:smit \n",
      "student full name:hasan mashood\n",
      "age: 30\n",
      "\n",
      "\n"
     ]
    }
   ],
   "source": [
    "print(card.casefold()) #inline"
   ]
  },
  {
   "cell_type": "code",
   "execution_count": 4,
   "id": "b6efc380",
   "metadata": {},
   "outputs": [
    {
     "ename": "NameError",
     "evalue": "name 'card' is not defined",
     "output_type": "error",
     "traceback": [
      "\u001b[1;31m---------------------------------------------------------------------------\u001b[0m",
      "\u001b[1;31mNameError\u001b[0m                                 Traceback (most recent call last)",
      "\u001b[1;32m~\\AppData\\Local\\Temp\\ipykernel_15088\\2851738887.py\u001b[0m in \u001b[0;36m<module>\u001b[1;34m\u001b[0m\n\u001b[1;32m----> 1\u001b[1;33m \u001b[0mprint\u001b[0m\u001b[1;33m(\u001b[0m\u001b[0mcard\u001b[0m\u001b[1;33m)\u001b[0m\u001b[1;33m\u001b[0m\u001b[1;33m\u001b[0m\u001b[0m\n\u001b[0m",
      "\u001b[1;31mNameError\u001b[0m: name 'card' is not defined"
     ]
    }
   ],
   "source": [
    "print(card)"
   ]
  },
  {
   "cell_type": "code",
   "execution_count": 28,
   "id": "594ecb20",
   "metadata": {},
   "outputs": [
    {
     "data": {
      "text/plain": [
       "3"
      ]
     },
     "execution_count": 28,
     "metadata": {},
     "output_type": "execute_result"
    }
   ],
   "source": [
    "card.count(\"i\")"
   ]
  },
  {
   "cell_type": "code",
   "execution_count": 30,
   "id": "2583c50a",
   "metadata": {},
   "outputs": [
    {
     "name": "stdout",
     "output_type": "stream",
     "text": [
      "institute_name:smit \n",
      "student full name:hasan mashood\n",
      "age: 30\n",
      "\n",
      "\n"
     ]
    },
    {
     "data": {
      "text/plain": [
       "1"
      ]
     },
     "execution_count": 30,
     "metadata": {},
     "output_type": "execute_result"
    }
   ],
   "source": [
    "print(card)\n",
    "card.casefold().count('hasan')"
   ]
  },
  {
   "cell_type": "code",
   "execution_count": 31,
   "id": "d943c0eb",
   "metadata": {},
   "outputs": [
    {
     "name": "stdout",
     "output_type": "stream",
     "text": [
      "b'institute_name:smit \\nstudent full name:hasan mashood\\nage: 30\\n\\n'\n"
     ]
    }
   ],
   "source": [
    "print(card.encode())"
   ]
  },
  {
   "cell_type": "code",
   "execution_count": 2,
   "id": "e81e34df",
   "metadata": {},
   "outputs": [
    {
     "ename": "NameError",
     "evalue": "name 'card' is not defined",
     "output_type": "error",
     "traceback": [
      "\u001b[1;31m---------------------------------------------------------------------------\u001b[0m",
      "\u001b[1;31mNameError\u001b[0m                                 Traceback (most recent call last)",
      "\u001b[1;32m~\\AppData\\Local\\Temp\\ipykernel_15088\\3431018876.py\u001b[0m in \u001b[0;36m<module>\u001b[1;34m\u001b[0m\n\u001b[1;32m----> 1\u001b[1;33m \u001b[0mprint\u001b[0m\u001b[1;33m(\u001b[0m\u001b[0mcard\u001b[0m\u001b[1;33m.\u001b[0m\u001b[0mmod\u001b[0m\u001b[1;33m(\u001b[0m\u001b[1;33m)\u001b[0m\u001b[1;33m)\u001b[0m\u001b[1;33m\u001b[0m\u001b[1;33m\u001b[0m\u001b[0m\n\u001b[0m",
      "\u001b[1;31mNameError\u001b[0m: name 'card' is not defined"
     ]
    }
   ],
   "source": [
    "print(card.mod())"
   ]
  },
  {
   "cell_type": "code",
   "execution_count": 5,
   "id": "ede7d652",
   "metadata": {},
   "outputs": [
    {
     "ename": "NameError",
     "evalue": "name 'card' is not defined",
     "output_type": "error",
     "traceback": [
      "\u001b[1;31m---------------------------------------------------------------------------\u001b[0m",
      "\u001b[1;31mNameError\u001b[0m                                 Traceback (most recent call last)",
      "\u001b[1;32m~\\AppData\\Local\\Temp\\ipykernel_6640\\2851738887.py\u001b[0m in \u001b[0;36m<module>\u001b[1;34m\u001b[0m\n\u001b[1;32m----> 1\u001b[1;33m \u001b[0mprint\u001b[0m\u001b[1;33m(\u001b[0m\u001b[0mcard\u001b[0m\u001b[1;33m)\u001b[0m\u001b[1;33m\u001b[0m\u001b[1;33m\u001b[0m\u001b[0m\n\u001b[0m",
      "\u001b[1;31mNameError\u001b[0m: name 'card' is not defined"
     ]
    }
   ],
   "source": [
    "print(card)"
   ]
  },
  {
   "cell_type": "code",
   "execution_count": 4,
   "id": "84fd95e2",
   "metadata": {},
   "outputs": [
    {
     "ename": "NameError",
     "evalue": "name 'card' is not defined",
     "output_type": "error",
     "traceback": [
      "\u001b[1;31m---------------------------------------------------------------------------\u001b[0m",
      "\u001b[1;31mNameError\u001b[0m                                 Traceback (most recent call last)",
      "\u001b[1;32m~\\AppData\\Local\\Temp\\ipykernel_6640\\3767255719.py\u001b[0m in \u001b[0;36m<module>\u001b[1;34m\u001b[0m\n\u001b[1;32m----> 1\u001b[1;33m \u001b[0mprint\u001b[0m\u001b[1;33m(\u001b[0m\u001b[0mcard\u001b[0m\u001b[1;33m.\u001b[0m\u001b[0mupper\u001b[0m\u001b[1;33m(\u001b[0m\u001b[1;33m)\u001b[0m\u001b[1;33m)\u001b[0m\u001b[1;33m\u001b[0m\u001b[1;33m\u001b[0m\u001b[0m\n\u001b[0m",
      "\u001b[1;31mNameError\u001b[0m: name 'card' is not defined"
     ]
    }
   ],
   "source": [
    "print(card.upper())"
   ]
  },
  {
   "cell_type": "code",
   "execution_count": 11,
   "id": "09ac7597",
   "metadata": {},
   "outputs": [
    {
     "name": "stdout",
     "output_type": "stream",
     "text": [
      "first_name:{first_name}    last_name{last_name}  ins_name:{ins_name}\n"
     ]
    }
   ],
   "source": [
    "first_name = \"hasan\"\n",
    "last_name = \"mashood\"\n",
    "ins_name  = \"smit\"\n",
    "\n",
    "card = \"first_name:{first_name}\" \"  \"+ \"  \"\"last_name{last_name}\" + \"  \" \"ins_name:{ins_name}\"\n",
    "\n",
    "print(card)"
   ]
  },
  {
   "cell_type": "code",
   "execution_count": null,
   "id": "78357bce",
   "metadata": {},
   "outputs": [],
   "source": []
  }
 ],
 "metadata": {
  "kernelspec": {
   "display_name": "Python 3 (ipykernel)",
   "language": "python",
   "name": "python3"
  },
  "language_info": {
   "codemirror_mode": {
    "name": "ipython",
    "version": 3
   },
   "file_extension": ".py",
   "mimetype": "text/x-python",
   "name": "python",
   "nbconvert_exporter": "python",
   "pygments_lexer": "ipython3",
   "version": "3.9.13"
  }
 },
 "nbformat": 4,
 "nbformat_minor": 5
}

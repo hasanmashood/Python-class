{
 "cells": [
  {
   "cell_type": "markdown",
   "id": "b818264a",
   "metadata": {},
   "source": [
    "# Topics\n",
    "\n",
    "* list comprehensive\n",
    "* tuple\n",
    "* set\n",
    "* dictionary"
   ]
  },
  {
   "cell_type": "code",
   "execution_count": 1,
   "id": "96207280",
   "metadata": {},
   "outputs": [
    {
     "data": {
      "text/plain": [
       "range(0, 11)"
      ]
     },
     "execution_count": 1,
     "metadata": {},
     "output_type": "execute_result"
    }
   ],
   "source": [
    "range(11)"
   ]
  },
  {
   "cell_type": "code",
   "execution_count": 2,
   "id": "b67553d4",
   "metadata": {},
   "outputs": [
    {
     "name": "stdout",
     "output_type": "stream",
     "text": [
      "0\n",
      "1\n",
      "2\n",
      "3\n",
      "4\n",
      "5\n",
      "6\n",
      "7\n",
      "8\n",
      "9\n",
      "10\n"
     ]
    }
   ],
   "source": [
    "for i in range(11):\n",
    "    print(i)"
   ]
  },
  {
   "cell_type": "code",
   "execution_count": 3,
   "id": "5b9b708b",
   "metadata": {},
   "outputs": [
    {
     "name": "stdout",
     "output_type": "stream",
     "text": [
      "1\n",
      "2\n",
      "3\n",
      "4\n",
      "5\n",
      "6\n",
      "7\n",
      "8\n",
      "9\n",
      "10\n"
     ]
    }
   ],
   "source": [
    "for i in range(1,11):\n",
    "    print(i)"
   ]
  },
  {
   "cell_type": "code",
   "execution_count": 6,
   "id": "a8f6a5bf",
   "metadata": {},
   "outputs": [
    {
     "name": "stdout",
     "output_type": "stream",
     "text": [
      "iteration no: 1\n",
      "iteration no: 2\n",
      "iteration no: 3\n",
      "iteration no: 4\n",
      "iteration no: 5\n",
      "iteration no: 6\n",
      "iteration no: 7\n",
      "iteration no: 8\n",
      "iteration no: 9\n",
      "iteration no: 10\n"
     ]
    }
   ],
   "source": [
    "for i in range(1,11):\n",
    "    print(\"iteration no:\",i)"
   ]
  },
  {
   "cell_type": "code",
   "execution_count": 8,
   "id": "edfb79e8",
   "metadata": {},
   "outputs": [
    {
     "name": "stdout",
     "output_type": "stream",
     "text": [
      "2X 1 = 2\n",
      "2X 2 = 4\n",
      "2X 3 = 6\n",
      "2X 4 = 8\n",
      "2X 5 = 10\n",
      "2X 6 = 12\n",
      "2X 7 = 14\n",
      "2X 8 = 16\n",
      "2X 9 = 18\n",
      "2X 10 = 20\n"
     ]
    }
   ],
   "source": [
    "for i in range(1,11):\n",
    "    print(f\"{2}X {i} = {2*i}\")"
   ]
  },
  {
   "cell_type": "code",
   "execution_count": 3,
   "id": "7d7e8d5a",
   "metadata": {},
   "outputs": [
    {
     "name": "stdout",
     "output_type": "stream",
     "text": [
      "Enter number for table generation:7\n",
      "7 X 1 = 7\n",
      "7 X 2 = 14\n",
      "7 X 3 = 21\n",
      "7 X 4 = 28\n",
      "7 X 5 = 35\n",
      "7 X 6 = 42\n",
      "7 X 7 = 49\n",
      "7 X 8 = 56\n",
      "7 X 9 = 63\n",
      "7 X 10 = 70\n"
     ]
    }
   ],
   "source": [
    "table = int(input(\"Enter number for table generation:\"))\n",
    "\n",
    "for i in range(1,11):\n",
    "    print(f\"{table} X {i} = {table*i}\")"
   ]
  },
  {
   "cell_type": "code",
   "execution_count": null,
   "id": "8ee7af75",
   "metadata": {},
   "outputs": [],
   "source": []
  },
  {
   "cell_type": "code",
   "execution_count": 10,
   "id": "9ef274aa",
   "metadata": {},
   "outputs": [
    {
     "name": "stdout",
     "output_type": "stream",
     "text": [
      "iteration no 1\n",
      "iteration no 2\n",
      "iteration no 3\n",
      "iteration no 4\n",
      "iteration no 5\n",
      "iteration no 6\n",
      "iteration no 7\n",
      "iteration no 8\n",
      "iteration no 9\n",
      "iteration no 10\n"
     ]
    },
    {
     "data": {
      "text/plain": [
       "[None, None, None, None, None, None, None, None, None, None]"
      ]
     },
     "execution_count": 10,
     "metadata": {},
     "output_type": "execute_result"
    }
   ],
   "source": [
    "[print(\"iteration no\",i) for i in range(1,11)]\n",
    "   "
   ]
  },
  {
   "cell_type": "code",
   "execution_count": 6,
   "id": "8b4c31b4",
   "metadata": {},
   "outputs": [
    {
     "ename": "NameError",
     "evalue": "name 'f' is not defined",
     "output_type": "error",
     "traceback": [
      "\u001b[1;31m---------------------------------------------------------------------------\u001b[0m",
      "\u001b[1;31mNameError\u001b[0m                                 Traceback (most recent call last)",
      "\u001b[1;32m~\\AppData\\Local\\Temp\\ipykernel_6376\\2832195998.py\u001b[0m in \u001b[0;36m<module>\u001b[1;34m\u001b[0m\n\u001b[1;32m----> 1\u001b[1;33m \u001b[1;33m[\u001b[0m\u001b[0mf\u001b[0m\u001b[1;33m(\u001b[0m\u001b[1;34m\"iteration no\"\u001b[0m\u001b[1;33m,\u001b[0m\u001b[0mi\u001b[0m\u001b[1;33m)\u001b[0m \u001b[1;32mfor\u001b[0m \u001b[0mi\u001b[0m \u001b[1;32min\u001b[0m \u001b[0mrange\u001b[0m\u001b[1;33m(\u001b[0m\u001b[1;36m1\u001b[0m\u001b[1;33m,\u001b[0m\u001b[1;36m11\u001b[0m\u001b[1;33m)\u001b[0m\u001b[1;33m]\u001b[0m\u001b[1;33m\u001b[0m\u001b[1;33m\u001b[0m\u001b[0m\n\u001b[0m\u001b[0;32m      2\u001b[0m \u001b[1;33m\u001b[0m\u001b[0m\n",
      "\u001b[1;32m~\\AppData\\Local\\Temp\\ipykernel_6376\\2832195998.py\u001b[0m in \u001b[0;36m<listcomp>\u001b[1;34m(.0)\u001b[0m\n\u001b[1;32m----> 1\u001b[1;33m \u001b[1;33m[\u001b[0m\u001b[0mf\u001b[0m\u001b[1;33m(\u001b[0m\u001b[1;34m\"iteration no\"\u001b[0m\u001b[1;33m,\u001b[0m\u001b[0mi\u001b[0m\u001b[1;33m)\u001b[0m \u001b[1;32mfor\u001b[0m \u001b[0mi\u001b[0m \u001b[1;32min\u001b[0m \u001b[0mrange\u001b[0m\u001b[1;33m(\u001b[0m\u001b[1;36m1\u001b[0m\u001b[1;33m,\u001b[0m\u001b[1;36m11\u001b[0m\u001b[1;33m)\u001b[0m\u001b[1;33m]\u001b[0m\u001b[1;33m\u001b[0m\u001b[1;33m\u001b[0m\u001b[0m\n\u001b[0m\u001b[0;32m      2\u001b[0m \u001b[1;33m\u001b[0m\u001b[0m\n",
      "\u001b[1;31mNameError\u001b[0m: name 'f' is not defined"
     ]
    }
   ],
   "source": [
    "[f(\"iteration no\",i) for i in range(1,11)]\n",
    "   "
   ]
  },
  {
   "cell_type": "code",
   "execution_count": 22,
   "id": "74ad96e0",
   "metadata": {},
   "outputs": [
    {
     "name": "stdout",
     "output_type": "stream",
     "text": [
      "(1, 1) \n",
      "(2, 1) \n",
      "(2, 2) \n",
      "(3, 1) \n",
      "(3, 2) \n",
      "(3, 3) \n",
      "(4, 1) \n",
      "(4, 2) \n",
      "(4, 3) \n",
      "(4, 4) \n",
      "(5, 1) \n",
      "(5, 2) \n",
      "(5, 3) \n",
      "(5, 4) \n",
      "(5, 5) \n",
      "(6, 1) \n",
      "(6, 2) \n",
      "(6, 3) \n",
      "(6, 4) \n",
      "(6, 5) \n",
      "(6, 6) \n",
      "(7, 1) \n",
      "(7, 2) \n",
      "(7, 3) \n",
      "(7, 4) \n",
      "(7, 5) \n",
      "(7, 6) \n",
      "(7, 7) \n",
      "(8, 1) \n",
      "(8, 2) \n",
      "(8, 3) \n",
      "(8, 4) \n",
      "(8, 5) \n",
      "(8, 6) \n",
      "(8, 7) \n",
      "(8, 8) \n",
      "(9, 1) \n",
      "(9, 2) \n",
      "(9, 3) \n",
      "(9, 4) \n",
      "(9, 5) \n",
      "(9, 6) \n",
      "(9, 7) \n",
      "(9, 8) \n",
      "(9, 9) \n",
      "(10, 1) \n",
      "(10, 2) \n",
      "(10, 3) \n",
      "(10, 4) \n",
      "(10, 5) \n",
      "(10, 6) \n",
      "(10, 7) \n",
      "(10, 8) \n",
      "(10, 9) \n",
      "(10, 10) \n"
     ]
    }
   ],
   "source": [
    "for i in range(1,11):\n",
    "    for j in range(1,i+1):\n",
    "        print((i,j),end=\" \")\n",
    "        \n",
    "        print()"
   ]
  },
  {
   "cell_type": "code",
   "execution_count": 2,
   "id": "62903fe8",
   "metadata": {},
   "outputs": [
    {
     "name": "stdout",
     "output_type": "stream",
     "text": [
      "([[1, 2, 3], [4, 5, 6], [7, 8, 9]],)\n"
     ]
    }
   ],
   "source": [
    "data = [[1,2,3],\n",
    "        [4,5,6],\n",
    "        [7,8,9]],\n",
    "\n",
    "print(data)"
   ]
  },
  {
   "cell_type": "code",
   "execution_count": 16,
   "id": "8fb9359d",
   "metadata": {},
   "outputs": [
    {
     "data": {
      "text/plain": [
       "3"
      ]
     },
     "execution_count": 16,
     "metadata": {},
     "output_type": "execute_result"
    }
   ],
   "source": [
    "data = [[1,2,3],\n",
    "        [4,5,6],\n",
    "        [7,8,9]]\n",
    "\n",
    "len(data)"
   ]
  },
  {
   "cell_type": "code",
   "execution_count": 17,
   "id": "5a584455",
   "metadata": {},
   "outputs": [
    {
     "name": "stdout",
     "output_type": "stream",
     "text": [
      "[1, 2, 3] 0\n",
      "[4, 5, 6] 1\n",
      "[7, 8, 9] 2\n"
     ]
    }
   ],
   "source": [
    "data = [[1,2,3],\n",
    "        [4,5,6],\n",
    "        [7,8,9]]\n",
    "\n",
    "for row in range(len(data)):\n",
    "    print(data[row],row)"
   ]
  },
  {
   "cell_type": "code",
   "execution_count": 23,
   "id": "0b518579",
   "metadata": {},
   "outputs": [
    {
     "name": "stdout",
     "output_type": "stream",
     "text": [
      "1 2 3 \n",
      "4 5 6 \n",
      "7 8 9 \n"
     ]
    }
   ],
   "source": [
    "data = [[1,2,3],\n",
    "        [4,5,6],\n",
    "        [7,8,9]]\n",
    "\n",
    "\n",
    "for row in range(len(data)):\n",
    "    for col in range(len(data[row])):\n",
    "        print(data[row][col], end=\" \")\n",
    "    \n",
    "    print()"
   ]
  },
  {
   "cell_type": "code",
   "execution_count": 26,
   "id": "7713eafd",
   "metadata": {},
   "outputs": [
    {
     "name": "stdout",
     "output_type": "stream",
     "text": [
      "1 2 3 \n",
      "4 5 6 \n",
      "7 8 9 \n"
     ]
    }
   ],
   "source": [
    "data = [[1,2,3],\n",
    "        [4,5,6],\n",
    "        [7,8,9]]\n",
    "\n",
    "for row in data:\n",
    "    for col in row:\n",
    "        print(col, end=\" \")\n",
    "    print()"
   ]
  },
  {
   "cell_type": "code",
   "execution_count": 21,
   "id": "58eede30",
   "metadata": {},
   "outputs": [
    {
     "data": {
      "text/plain": [
       "[1, 2, 3, 4, 5, 6, 7, 8, 9]"
      ]
     },
     "execution_count": 21,
     "metadata": {},
     "output_type": "execute_result"
    }
   ],
   "source": [
    "data = [[1,2,3],\n",
    "        [4,5,6],\n",
    "        [7,8,9]]\n",
    "[data[row][col] for row in range(len(data)) for col in range(len(data[row]))]"
   ]
  },
  {
   "cell_type": "markdown",
   "id": "92940948",
   "metadata": {},
   "source": [
    "# Tuple\n",
    "\n",
    "* start with `(` end with `)`\n",
    "* tuple is imutable\n",
    "* hetrogenous = multiple data type"
   ]
  },
  {
   "cell_type": "code",
   "execution_count": 28,
   "id": "7a4be29e",
   "metadata": {},
   "outputs": [
    {
     "name": "stdout",
     "output_type": "stream",
     "text": [
      "<class 'tuple'>\n",
      "('a', 'b', 'c', 1, 2, 3)\n"
     ]
    }
   ],
   "source": [
    "data = ('a','b','c',1,2,3)\n",
    "\n",
    "print(type(data))\n",
    "print(data)"
   ]
  },
  {
   "cell_type": "code",
   "execution_count": 29,
   "id": "875f2b37",
   "metadata": {},
   "outputs": [
    {
     "name": "stdout",
     "output_type": "stream",
     "text": [
      "<class 'tuple'>\n",
      "a\n"
     ]
    }
   ],
   "source": [
    "data = ('a','b','c',1,2,3)\n",
    "\n",
    "print(type(data))\n",
    "print(data[0])"
   ]
  },
  {
   "cell_type": "code",
   "execution_count": 31,
   "id": "89c1d505",
   "metadata": {},
   "outputs": [
    {
     "name": "stdout",
     "output_type": "stream",
     "text": [
      "<class 'tuple'>\n",
      "('a', 'b', 'c')\n"
     ]
    }
   ],
   "source": [
    "data = ('a','b','c',1,2,3)\n",
    "\n",
    "print(type(data))\n",
    "print(data[0:3])"
   ]
  },
  {
   "cell_type": "code",
   "execution_count": 32,
   "id": "7519addd",
   "metadata": {},
   "outputs": [
    {
     "name": "stdout",
     "output_type": "stream",
     "text": [
      "<class 'tuple'>\n"
     ]
    },
    {
     "ename": "TypeError",
     "evalue": "'tuple' object does not support item assignment",
     "output_type": "error",
     "traceback": [
      "\u001b[1;31m---------------------------------------------------------------------------\u001b[0m",
      "\u001b[1;31mTypeError\u001b[0m                                 Traceback (most recent call last)",
      "\u001b[1;32m~\\AppData\\Local\\Temp\\ipykernel_6704\\620375294.py\u001b[0m in \u001b[0;36m<module>\u001b[1;34m\u001b[0m\n\u001b[0;32m      2\u001b[0m \u001b[1;33m\u001b[0m\u001b[0m\n\u001b[0;32m      3\u001b[0m \u001b[0mprint\u001b[0m\u001b[1;33m(\u001b[0m\u001b[0mtype\u001b[0m\u001b[1;33m(\u001b[0m\u001b[0mdata\u001b[0m\u001b[1;33m)\u001b[0m\u001b[1;33m)\u001b[0m\u001b[1;33m\u001b[0m\u001b[1;33m\u001b[0m\u001b[0m\n\u001b[1;32m----> 4\u001b[1;33m \u001b[0mdata\u001b[0m\u001b[1;33m[\u001b[0m\u001b[1;36m0\u001b[0m\u001b[1;33m]\u001b[0m \u001b[1;33m=\u001b[0m \u001b[1;34m\"A\"\u001b[0m\u001b[1;33m\u001b[0m\u001b[1;33m\u001b[0m\u001b[0m\n\u001b[0m",
      "\u001b[1;31mTypeError\u001b[0m: 'tuple' object does not support item assignment"
     ]
    }
   ],
   "source": [
    "data = ('a','b','c',1,2,3)\n",
    "\n",
    "print(type(data))\n",
    "data[0] = \"A\""
   ]
  },
  {
   "cell_type": "code",
   "execution_count": 33,
   "id": "1e423ad8",
   "metadata": {},
   "outputs": [
    {
     "data": {
      "text/plain": [
       "['__add__',\n",
       " '__class__',\n",
       " '__class_getitem__',\n",
       " '__contains__',\n",
       " '__delattr__',\n",
       " '__dir__',\n",
       " '__doc__',\n",
       " '__eq__',\n",
       " '__format__',\n",
       " '__ge__',\n",
       " '__getattribute__',\n",
       " '__getitem__',\n",
       " '__getnewargs__',\n",
       " '__gt__',\n",
       " '__hash__',\n",
       " '__init__',\n",
       " '__init_subclass__',\n",
       " '__iter__',\n",
       " '__le__',\n",
       " '__len__',\n",
       " '__lt__',\n",
       " '__mul__',\n",
       " '__ne__',\n",
       " '__new__',\n",
       " '__reduce__',\n",
       " '__reduce_ex__',\n",
       " '__repr__',\n",
       " '__rmul__',\n",
       " '__setattr__',\n",
       " '__sizeof__',\n",
       " '__str__',\n",
       " '__subclasshook__',\n",
       " 'count',\n",
       " 'index']"
      ]
     },
     "execution_count": 33,
     "metadata": {},
     "output_type": "execute_result"
    }
   ],
   "source": [
    "dir(tuple)"
   ]
  },
  {
   "cell_type": "code",
   "execution_count": 34,
   "id": "c3ee023b",
   "metadata": {},
   "outputs": [
    {
     "data": {
      "text/plain": [
       "(1, 2, 3, 'a', 'b', 'c', 'd')"
      ]
     },
     "execution_count": 34,
     "metadata": {},
     "output_type": "execute_result"
    }
   ],
   "source": [
    "(1,2,3) + ('a','b','c','d')"
   ]
  },
  {
   "cell_type": "code",
   "execution_count": 35,
   "id": "310d37c0",
   "metadata": {},
   "outputs": [
    {
     "data": {
      "text/plain": [
       "(1, 2, 3, 1, 2, 3)"
      ]
     },
     "execution_count": 35,
     "metadata": {},
     "output_type": "execute_result"
    }
   ],
   "source": [
    "(1,2,3)*2"
   ]
  },
  {
   "cell_type": "code",
   "execution_count": 36,
   "id": "272b7184",
   "metadata": {},
   "outputs": [
    {
     "data": {
      "text/plain": [
       "(1, 2, 3, 1, 2, 3, 1, 2, 3)"
      ]
     },
     "execution_count": 36,
     "metadata": {},
     "output_type": "execute_result"
    }
   ],
   "source": [
    "(1,2,3) * 3"
   ]
  },
  {
   "cell_type": "code",
   "execution_count": 37,
   "id": "c6faa6ab",
   "metadata": {},
   "outputs": [
    {
     "data": {
      "text/plain": [
       "(1, 2, 3, 1, 2, 3, 1, 2, 3, 1, 2, 3)"
      ]
     },
     "execution_count": 37,
     "metadata": {},
     "output_type": "execute_result"
    }
   ],
   "source": [
    "(1,2,3) * 4"
   ]
  },
  {
   "cell_type": "markdown",
   "id": "218dbc5f",
   "metadata": {},
   "source": [
    "# Tuple not fully imutable\n"
   ]
  },
  {
   "cell_type": "code",
   "execution_count": 55,
   "id": "e7067444",
   "metadata": {},
   "outputs": [
    {
     "data": {
      "text/plain": [
       "('a', 'b', 'c', [100, 2, 8])"
      ]
     },
     "execution_count": 55,
     "metadata": {},
     "output_type": "execute_result"
    }
   ],
   "source": [
    "a = ('a','b','c',[1,2])\n",
    "a[3].append(8)\n",
    "a[3][0] = 100\n",
    "a"
   ]
  },
  {
   "cell_type": "markdown",
   "id": "72ac608d",
   "metadata": {},
   "source": [
    "# Dictionary\n",
    "\n",
    "* start `{` and `}`\n",
    "* item \n",
    "     * `key`:`value`\n",
    "         * key = hashable type = int, str\n",
    "         * value = any type\n",
    "         * **:** =  separator between key value\n",
    "  \n",
    "  * **,** between items\n",
    "      \n",
    "         "
   ]
  },
  {
   "cell_type": "code",
   "execution_count": 38,
   "id": "dd8bb6ac",
   "metadata": {},
   "outputs": [
    {
     "data": {
      "text/plain": [
       "['hasan mashood', 'anwar ul hasan', '4355488788858', '34', 'abc']"
      ]
     },
     "execution_count": 38,
     "metadata": {},
     "output_type": "execute_result"
    }
   ],
   "source": [
    "#   0=name            1=fathername         2=cnic   3=roll    4=signature\n",
    "['hasan mashood',\"anwar ul hasan\",'4355488788858',  '34',         'abc']\n"
   ]
  },
  {
   "cell_type": "code",
   "execution_count": 40,
   "id": "1d193b35",
   "metadata": {},
   "outputs": [
    {
     "data": {
      "text/plain": [
       "{'name': 'hasan mashood',\n",
       " 'father_name': 'anwar ul hasan',\n",
       " 'cnic': '42506-84583454-1',\n",
       " 'roll_no': 15,\n",
       " 'signature': 'abc'}"
      ]
     },
     "execution_count": 40,
     "metadata": {},
     "output_type": "execute_result"
    }
   ],
   "source": [
    " data = {\n",
    "    \"name\":\"hasan mashood\",\n",
    "    \"father_name\": \"anwar ul hasan\",\n",
    "    'cnic': \"42506-84583454-1\",\n",
    "    \"roll_no\" : 15,\n",
    "    \"signature\":\"abc\"\n",
    "}\n",
    "\n",
    "data"
   ]
  },
  {
   "cell_type": "code",
   "execution_count": 42,
   "id": "4c40ec69",
   "metadata": {},
   "outputs": [
    {
     "data": {
      "text/plain": [
       "'hasan mashood'"
      ]
     },
     "execution_count": 42,
     "metadata": {},
     "output_type": "execute_result"
    }
   ],
   "source": [
    " data = {\n",
    "    \"name\":\"hasan mashood\",\n",
    "    \"father_name\": \"anwar ul hasan\",\n",
    "    'cnic': \"42506-84583454-1\",\n",
    "    \"roll_no\" : 15,\n",
    "    \"signature\":\"abc\"\n",
    "}\n",
    "\n",
    "data[\"name\"]"
   ]
  },
  {
   "cell_type": "code",
   "execution_count": 44,
   "id": "2a390756",
   "metadata": {},
   "outputs": [
    {
     "data": {
      "text/plain": [
       "15"
      ]
     },
     "execution_count": 44,
     "metadata": {},
     "output_type": "execute_result"
    }
   ],
   "source": [
    " data = {\n",
    "    \"name\":\"hasan mashood\",\n",
    "    \"father_name\": \"anwar ul hasan\",\n",
    "    'cnic': \"42506-84583454-1\",\n",
    "    \"roll_no\" : 15,\n",
    "    \"signature\":\"abc\"\n",
    "}\n",
    "\n",
    "data[\"roll_no\"]"
   ]
  },
  {
   "cell_type": "code",
   "execution_count": null,
   "id": "0877dd87",
   "metadata": {},
   "outputs": [],
   "source": []
  },
  {
   "cell_type": "code",
   "execution_count": null,
   "id": "cf1f3d82",
   "metadata": {},
   "outputs": [],
   "source": []
  },
  {
   "cell_type": "code",
   "execution_count": 46,
   "id": "df2a48f1",
   "metadata": {},
   "outputs": [
    {
     "data": {
      "text/plain": [
       "['__class__',\n",
       " '__class_getitem__',\n",
       " '__contains__',\n",
       " '__delattr__',\n",
       " '__delitem__',\n",
       " '__dir__',\n",
       " '__doc__',\n",
       " '__eq__',\n",
       " '__format__',\n",
       " '__ge__',\n",
       " '__getattribute__',\n",
       " '__getitem__',\n",
       " '__gt__',\n",
       " '__hash__',\n",
       " '__init__',\n",
       " '__init_subclass__',\n",
       " '__ior__',\n",
       " '__iter__',\n",
       " '__le__',\n",
       " '__len__',\n",
       " '__lt__',\n",
       " '__ne__',\n",
       " '__new__',\n",
       " '__or__',\n",
       " '__reduce__',\n",
       " '__reduce_ex__',\n",
       " '__repr__',\n",
       " '__reversed__',\n",
       " '__ror__',\n",
       " '__setattr__',\n",
       " '__setitem__',\n",
       " '__sizeof__',\n",
       " '__str__',\n",
       " '__subclasshook__',\n",
       " 'clear',\n",
       " 'copy',\n",
       " 'fromkeys',\n",
       " 'get',\n",
       " 'items',\n",
       " 'keys',\n",
       " 'pop',\n",
       " 'popitem',\n",
       " 'setdefault',\n",
       " 'update',\n",
       " 'values']"
      ]
     },
     "execution_count": 46,
     "metadata": {},
     "output_type": "execute_result"
    }
   ],
   "source": [
    "dir(dict)"
   ]
  },
  {
   "cell_type": "code",
   "execution_count": 52,
   "id": "d68e0b35",
   "metadata": {},
   "outputs": [
    {
     "data": {
      "text/plain": [
       "'pakistan'"
      ]
     },
     "execution_count": 52,
     "metadata": {},
     "output_type": "execute_result"
    }
   ],
   "source": [
    " data = {\n",
    "    \"name\":\"hasan mashood\",\n",
    "    \"father_name\": \"anwar ul hasan\",\n",
    "    'cnic': \"42506-84583454-1\",\n",
    "    \"roll_no\" : 15,\n",
    "    \"signature\":\"abc\",\n",
    "    100 : 'pakistan'\n",
    "}\n",
    "    \n",
    "data[100]"
   ]
  },
  {
   "cell_type": "code",
   "execution_count": 56,
   "id": "0e1cc344",
   "metadata": {},
   "outputs": [
    {
     "ename": "KeyError",
     "evalue": "'roll_name'",
     "output_type": "error",
     "traceback": [
      "\u001b[1;31m---------------------------------------------------------------------------\u001b[0m",
      "\u001b[1;31mKeyError\u001b[0m                                  Traceback (most recent call last)",
      "\u001b[1;32m~\\AppData\\Local\\Temp\\ipykernel_6704\\4107221540.py\u001b[0m in \u001b[0;36m<module>\u001b[1;34m\u001b[0m\n\u001b[0;32m      4\u001b[0m \u001b[0mdata\u001b[0m\u001b[1;33m[\u001b[0m\u001b[1;34m'father_name'\u001b[0m\u001b[1;33m]\u001b[0m \u001b[1;33m=\u001b[0m \u001b[1;34m\"anwar ul hasan\"\u001b[0m\u001b[1;33m\u001b[0m\u001b[1;33m\u001b[0m\u001b[0m\n\u001b[0;32m      5\u001b[0m \u001b[1;33m\u001b[0m\u001b[0m\n\u001b[1;32m----> 6\u001b[1;33m \u001b[0mprint\u001b[0m\u001b[1;33m(\u001b[0m\u001b[0mdata\u001b[0m\u001b[1;33m[\u001b[0m\u001b[1;34m'roll_name'\u001b[0m\u001b[1;33m]\u001b[0m\u001b[1;33m)\u001b[0m\u001b[1;33m\u001b[0m\u001b[1;33m\u001b[0m\u001b[0m\n\u001b[0m",
      "\u001b[1;31mKeyError\u001b[0m: 'roll_name'"
     ]
    }
   ],
   "source": [
    "data = {}\n",
    "\n",
    "data['name'] = \"hasan mashood\"\n",
    "data['father_name'] = \"anwar ul hasan\"\n",
    "\n",
    "print(data['roll_name'])"
   ]
  },
  {
   "cell_type": "code",
   "execution_count": 57,
   "id": "5c6cf583",
   "metadata": {},
   "outputs": [
    {
     "name": "stdout",
     "output_type": "stream",
     "text": [
      "line1\n",
      "line2\n"
     ]
    },
    {
     "ename": "KeyError",
     "evalue": "'roll_number'",
     "output_type": "error",
     "traceback": [
      "\u001b[1;31m---------------------------------------------------------------------------\u001b[0m",
      "\u001b[1;31mKeyError\u001b[0m                                  Traceback (most recent call last)",
      "\u001b[1;32m~\\AppData\\Local\\Temp\\ipykernel_6704\\2123131643.py\u001b[0m in \u001b[0;36m<module>\u001b[1;34m\u001b[0m\n\u001b[0;32m      2\u001b[0m \u001b[0mprint\u001b[0m\u001b[1;33m(\u001b[0m\u001b[1;34m\"line2\"\u001b[0m\u001b[1;33m)\u001b[0m\u001b[1;33m\u001b[0m\u001b[1;33m\u001b[0m\u001b[0m\n\u001b[0;32m      3\u001b[0m \u001b[1;33m\u001b[0m\u001b[0m\n\u001b[1;32m----> 4\u001b[1;33m \u001b[0mdata\u001b[0m\u001b[1;33m[\u001b[0m\u001b[1;34m'roll_number'\u001b[0m\u001b[1;33m]\u001b[0m\u001b[1;33m\u001b[0m\u001b[1;33m\u001b[0m\u001b[0m\n\u001b[0m\u001b[0;32m      5\u001b[0m \u001b[1;33m\u001b[0m\u001b[0m\n\u001b[0;32m      6\u001b[0m \u001b[0mprint\u001b[0m\u001b[1;33m(\u001b[0m\u001b[1;34m\"line3\"\u001b[0m\u001b[1;33m)\u001b[0m\u001b[1;33m\u001b[0m\u001b[1;33m\u001b[0m\u001b[0m\n",
      "\u001b[1;31mKeyError\u001b[0m: 'roll_number'"
     ]
    }
   ],
   "source": [
    "print(\"line1\")\n",
    "print(\"line2\")\n",
    "\n",
    "data['roll_number']\n",
    "\n",
    "print(\"line3\")\n",
    "\n",
    "print(\"line4\")\n"
   ]
  },
  {
   "cell_type": "code",
   "execution_count": 58,
   "id": "e7f66511",
   "metadata": {},
   "outputs": [
    {
     "name": "stdout",
     "output_type": "stream",
     "text": [
      "hasan mashood\n",
      "None\n",
      "not available\n"
     ]
    }
   ],
   "source": [
    "data = {}\n",
    "\n",
    "data['name'] = \"hasan mashood\"\n",
    "data['father_name'] = \"anwar ul hasan\"\n",
    "\n",
    "print(data.get('name'))\n",
    "print(data.get('roll_number'))\n",
    "print(data.get('roll_number','not available'))"
   ]
  },
  {
   "cell_type": "code",
   "execution_count": 59,
   "id": "7c16ee38",
   "metadata": {},
   "outputs": [
    {
     "name": "stdout",
     "output_type": "stream",
     "text": [
      "line1\n",
      "line2\n",
      "not_available\n",
      "line3\n",
      "line4\n"
     ]
    }
   ],
   "source": [
    "print(\"line1\")\n",
    "print(\"line2\")\n",
    "\n",
    "print(data.get('roll_number','not_available'))\n",
    "\n",
    "print(\"line3\")\n",
    "\n",
    "print(\"line4\")"
   ]
  },
  {
   "cell_type": "code",
   "execution_count": 60,
   "id": "b1aaa363",
   "metadata": {},
   "outputs": [
    {
     "ename": "AttributeError",
     "evalue": "type object 'dict' has no attribute 'formkeys'",
     "output_type": "error",
     "traceback": [
      "\u001b[1;31m---------------------------------------------------------------------------\u001b[0m",
      "\u001b[1;31mAttributeError\u001b[0m                            Traceback (most recent call last)",
      "\u001b[1;32m~\\AppData\\Local\\Temp\\ipykernel_6704\\188129359.py\u001b[0m in \u001b[0;36m<module>\u001b[1;34m\u001b[0m\n\u001b[1;32m----> 1\u001b[1;33m \u001b[0mdict\u001b[0m\u001b[1;33m.\u001b[0m\u001b[0mformkeys\u001b[0m\u001b[1;33m(\u001b[0m\u001b[1;33m[\u001b[0m\u001b[1;34m'name'\u001b[0m\u001b[1;33m,\u001b[0m\u001b[1;34m'id'\u001b[0m\u001b[1;33m,\u001b[0m\u001b[1;34m'father_name'\u001b[0m\u001b[1;33m,\u001b[0m\u001b[1;34m'cnic'\u001b[0m\u001b[1;33m]\u001b[0m\u001b[1;33m)\u001b[0m\u001b[1;33m\u001b[0m\u001b[1;33m\u001b[0m\u001b[0m\n\u001b[0m",
      "\u001b[1;31mAttributeError\u001b[0m: type object 'dict' has no attribute 'formkeys'"
     ]
    }
   ],
   "source": [
    "dict.formkeys(['name','id','father_name','cnic'])"
   ]
  },
  {
   "cell_type": "code",
   "execution_count": 61,
   "id": "f20b05b7",
   "metadata": {},
   "outputs": [
    {
     "data": {
      "text/plain": [
       "dict_keys(['name', 'father_name', 'cnic', 'roll_no', 'signature', 100])"
      ]
     },
     "execution_count": 61,
     "metadata": {},
     "output_type": "execute_result"
    }
   ],
   "source": [
    " data = {\n",
    "    \"name\":\"hasan mashood\",\n",
    "    \"father_name\": \"anwar ul hasan\",\n",
    "    'cnic': \"42506-84583454-1\",\n",
    "    \"roll_no\" : 15,\n",
    "    \"signature\":\"abc\",\n",
    "    100 : 'pakistan'\n",
    "}\n",
    "\n",
    "data.keys()"
   ]
  },
  {
   "cell_type": "code",
   "execution_count": 62,
   "id": "1dba5f45",
   "metadata": {},
   "outputs": [
    {
     "data": {
      "text/plain": [
       "dict_values(['hasan mashood', 'anwar ul hasan', '42506-84583454-1', 15, 'abc', 'pakistan'])"
      ]
     },
     "execution_count": 62,
     "metadata": {},
     "output_type": "execute_result"
    }
   ],
   "source": [
    "data.values()"
   ]
  },
  {
   "cell_type": "code",
   "execution_count": 63,
   "id": "1c52a18d",
   "metadata": {},
   "outputs": [
    {
     "data": {
      "text/plain": [
       "dict_items([('name', 'hasan mashood'), ('father_name', 'anwar ul hasan'), ('cnic', '42506-84583454-1'), ('roll_no', 15), ('signature', 'abc'), (100, 'pakistan')])"
      ]
     },
     "execution_count": 63,
     "metadata": {},
     "output_type": "execute_result"
    }
   ],
   "source": [
    "data.items()"
   ]
  },
  {
   "cell_type": "code",
   "execution_count": 65,
   "id": "8e270a69",
   "metadata": {},
   "outputs": [
    {
     "name": "stdout",
     "output_type": "stream",
     "text": [
      "aa\n",
      "bb\n"
     ]
    }
   ],
   "source": [
    "a,b = ('aa','bb')\n",
    "\n",
    "print(a)\n",
    "print(b)"
   ]
  },
  {
   "cell_type": "code",
   "execution_count": 67,
   "id": "1ea36eca",
   "metadata": {},
   "outputs": [
    {
     "name": "stdout",
     "output_type": "stream",
     "text": [
      "name --> hasan mashood\n",
      "father_name --> anwar ul hasan\n",
      "cnic --> 42506-84583454-1\n",
      "roll_no --> 15\n",
      "signature --> abc\n"
     ]
    }
   ],
   "source": [
    " data = {\n",
    "    \"name\":\"hasan mashood\",\n",
    "    \"father_name\": \"anwar ul hasan\",\n",
    "    'cnic': \"42506-84583454-1\",\n",
    "    \"roll_no\" : 15,\n",
    "    \"signature\":\"abc\",\n",
    "     \n",
    "}     \n",
    "    \n",
    "for k in data.keys():\n",
    "    print(k,\"-->\",data[k])"
   ]
  },
  {
   "cell_type": "code",
   "execution_count": 68,
   "id": "b89f5d76",
   "metadata": {},
   "outputs": [
    {
     "name": "stdout",
     "output_type": "stream",
     "text": [
      "name hasan mashood\n",
      "father_name anwar ul hasan\n",
      "cnic 42506-84583454-1\n",
      "roll_no 15\n",
      "signature abc\n"
     ]
    }
   ],
   "source": [
    "for k,v in data.items():\n",
    "    print(k,v)"
   ]
  },
  {
   "cell_type": "code",
   "execution_count": 69,
   "id": "46ae4791",
   "metadata": {},
   "outputs": [
    {
     "data": {
      "text/plain": [
       "{'a': 3, 'b': 2, 'c': 1}"
      ]
     },
     "execution_count": 69,
     "metadata": {},
     "output_type": "execute_result"
    }
   ],
   "source": [
    "data = {\n",
    "    \"a\":3,\n",
    "    \"b\":2,\n",
    "    \"c\":1\n",
    "}\n",
    "data"
   ]
  },
  {
   "cell_type": "code",
   "execution_count": 8,
   "id": "4f9a5044",
   "metadata": {},
   "outputs": [
    {
     "name": "stdout",
     "output_type": "stream",
     "text": [
      "[[1, 2, 3], [4, 5, 6], [7, 8, 9]]\n"
     ]
    }
   ],
   "source": [
    "for d in data:\n",
    "    print(d)"
   ]
  },
  {
   "cell_type": "code",
   "execution_count": null,
   "id": "496b84e1",
   "metadata": {},
   "outputs": [],
   "source": []
  },
  {
   "cell_type": "code",
   "execution_count": null,
   "id": "b6dbe512",
   "metadata": {},
   "outputs": [],
   "source": []
  },
  {
   "cell_type": "code",
   "execution_count": null,
   "id": "93845fec",
   "metadata": {},
   "outputs": [],
   "source": []
  }
 ],
 "metadata": {
  "kernelspec": {
   "display_name": "Python 3 (ipykernel)",
   "language": "python",
   "name": "python3"
  },
  "language_info": {
   "codemirror_mode": {
    "name": "ipython",
    "version": 3
   },
   "file_extension": ".py",
   "mimetype": "text/x-python",
   "name": "python",
   "nbconvert_exporter": "python",
   "pygments_lexer": "ipython3",
   "version": "3.9.13"
  }
 },
 "nbformat": 4,
 "nbformat_minor": 5
}

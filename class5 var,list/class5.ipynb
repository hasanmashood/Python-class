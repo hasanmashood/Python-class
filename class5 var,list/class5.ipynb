{
 "cells": [
  {
   "cell_type": "markdown",
   "id": "fc740b7a",
   "metadata": {},
   "source": [
    "# List Data type\n",
    " \n",
    "* start with `[` and end with `]`\n",
    "* value/items `store any data type`\n",
    "* separator between rwo items ,\n",
    "* indexing \n",
    "      * positive indexing `--->` left to right always start with **zero**\n",
    "      * negative/reverse `<---` right to left always start **-1**\n",
    " \n",
    "* extract value from list with index value `variable_name[index_num]` \n",
    "\n",
    "\n",
    "# Slicing\n",
    "\n",
    "* `variable[sart\"end:step]` all parameters are numbers\n",
    "     * **start** include\n",
    "     * **end** exclude(end-10\n",
    "     * **\n",
    "\n"
   ]
  },
  {
   "cell_type": "code",
   "execution_count": 1,
   "id": "5c08ddd5",
   "metadata": {},
   "outputs": [],
   "source": [
    "stdid1 = 1\n",
    "stdname = \"Ali\"\n",
    "stdfname1 = \"Hasan\"\n",
    "\n",
    "stdid2 = 2\n",
    "stdname2 = \"kashif\"\n",
    "stdfname2 = \"Asif\"\n",
    "\n"
   ]
  },
  {
   "cell_type": "code",
   "execution_count": 2,
   "id": "963cb2c4",
   "metadata": {},
   "outputs": [],
   "source": [
    "#array = multiple value store krta ha but same datatype"
   ]
  },
  {
   "cell_type": "code",
   "execution_count": 3,
   "id": "bbc5f2fc",
   "metadata": {},
   "outputs": [
    {
     "name": "stdout",
     "output_type": "stream",
     "text": [
      "['asif', 'hasan', '454743743', 'ali', 1000, True]\n"
     ]
    }
   ],
   "source": [
    "names = ['asif','hasan','454743743','ali',1000,True]\n",
    "print(names)"
   ]
  },
  {
   "cell_type": "code",
   "execution_count": 4,
   "id": "3d998b32",
   "metadata": {},
   "outputs": [
    {
     "name": "stdout",
     "output_type": "stream",
     "text": [
      "['asif', 'hasan', '454743743', 'ali', 1000, True]\n"
     ]
    }
   ],
   "source": [
    "#positive indexing\n",
    "# --->      0      1         2        3     4    5\n",
    "names = ['asif','hasan','454743743','ali',1000,True]\n",
    "print(names)"
   ]
  },
  {
   "cell_type": "code",
   "execution_count": 7,
   "id": "f7cebbdd",
   "metadata": {},
   "outputs": [
    {
     "name": "stdout",
     "output_type": "stream",
     "text": [
      "hasan\n",
      "ali\n",
      "1000 ali\n"
     ]
    }
   ],
   "source": [
    "\n",
    "names = ['asif','hasan','454743743','ali',1000,True]\n",
    "# <---      -6    -5        -4        -3   -2    -1\n",
    "print(names[1])\n",
    "print(names[-3])\n",
    "print(names[4],names[-3])"
   ]
  },
  {
   "cell_type": "markdown",
   "id": "3594ab2a",
   "metadata": {},
   "source": [
    "# old programming code style for printing all array values"
   ]
  },
  {
   "cell_type": "code",
   "execution_count": 9,
   "id": "77836f3c",
   "metadata": {},
   "outputs": [
    {
     "name": "stdout",
     "output_type": "stream",
     "text": [
      "asif\n",
      "hasan\n",
      "454743743\n",
      "ali\n",
      "1000\n",
      "True\n"
     ]
    }
   ],
   "source": [
    "names = ['asif','hasan','454743743','ali',1000,True]\n",
    "counter = 0 \n",
    "while counter < len(names):\n",
    "    print(names[counter])\n",
    "    counter += 1"
   ]
  },
  {
   "cell_type": "markdown",
   "id": "af8116a7",
   "metadata": {},
   "source": [
    "# now print with pythonic style"
   ]
  },
  {
   "cell_type": "code",
   "execution_count": 10,
   "id": "3fb7117b",
   "metadata": {},
   "outputs": [
    {
     "name": "stdout",
     "output_type": "stream",
     "text": [
      "asif\n",
      "hasan\n",
      "454743743\n",
      "ali\n",
      "1000\n",
      "True\n"
     ]
    }
   ],
   "source": [
    "# iteration = sequence in data type\n",
    "# index = is mai single value utha skte\n",
    "# slicing = is mai multiple value utha skte\n",
    "\n",
    "names = ['asif','hasan','454743743','ali',1000,True]\n",
    "\n",
    "for name in names:\n",
    "    print(name)"
   ]
  },
  {
   "cell_type": "code",
   "execution_count": 15,
   "id": "e9aea919",
   "metadata": {},
   "outputs": [
    {
     "name": "stdout",
     "output_type": "stream",
     "text": [
      "hasan\n",
      "454743743\n",
      "ali\n",
      "1000\n",
      "True\n"
     ]
    }
   ],
   "source": [
    "names = ['asif','hasan','454743743','ali',1000,True]\n",
    "counter = 1\n",
    "while counter < 6:\n",
    "    print(names[counter])\n",
    "    counter += 1"
   ]
  },
  {
   "cell_type": "markdown",
   "id": "6bf2c244",
   "metadata": {},
   "source": [
    "# Slicing\n",
    "\n",
    "# slicing = is mai multiple value utha skte"
   ]
  },
  {
   "cell_type": "code",
   "execution_count": 16,
   "id": "2c78ed08",
   "metadata": {},
   "outputs": [
    {
     "name": "stdout",
     "output_type": "stream",
     "text": [
      "['hasan', '454743743', 'ali', 1000, True]\n",
      "['hasan', '454743743', 'ali', 1000, True]\n"
     ]
    }
   ],
   "source": [
    "# --->      0      1         2        3     4    5\n",
    "names = ['asif','hasan','454743743','ali',1000,True]\n",
    "# <---      -6    -5        -4        -3   -2    -1\n",
    "\n",
    "print(names[1:6])\n",
    "print(names[1:6:1])"
   ]
  },
  {
   "cell_type": "code",
   "execution_count": 18,
   "id": "6e319f50",
   "metadata": {},
   "outputs": [
    {
     "name": "stdout",
     "output_type": "stream",
     "text": [
      "['asif', 'ali']\n",
      "[True, 1000, 'ali', '454743743', 'hasan', 'asif']\n"
     ]
    }
   ],
   "source": [
    "# --->      0      1         2        3     4    5\n",
    "names = ['asif','hasan','454743743','ali',1000,True]\n",
    "# <---      -6    -5        -4        -3   -2    -1\n",
    "\n",
    "print(names[::3])\n",
    "print(names[::-1])"
   ]
  },
  {
   "cell_type": "code",
   "execution_count": 30,
   "id": "ad08664c",
   "metadata": {},
   "outputs": [
    {
     "name": "stdout",
     "output_type": "stream",
     "text": [
      "[1000, 'ali', '454743743', 'hasan']\n",
      "['asif', 'hasan', '454743743', 'ali']\n"
     ]
    }
   ],
   "source": [
    "# --->      0      1         2        3     4    5\n",
    "names = ['asif','hasan','454743743','ali',1000,True]\n",
    "# <---      -6    -5        -4        -3   -2    -1\n",
    "\n",
    "print(names[4:-6:-1])\n",
    "print(names[-7:4])"
   ]
  },
  {
   "cell_type": "code",
   "execution_count": 34,
   "id": "34d66fff",
   "metadata": {},
   "outputs": [
    {
     "name": "stdout",
     "output_type": "stream",
     "text": [
      "[]\n"
     ]
    }
   ],
   "source": [
    "# --->      0      1         2        3     4    5     6\n",
    "names = ['asif','hasan','454743743','ali',1000,True,'kashif']\n",
    "# <---      -7     -6        -5       -4     -3   -2    -1\n",
    "print(names[3:-4:])"
   ]
  },
  {
   "cell_type": "code",
   "execution_count": 40,
   "id": "25a42ad3",
   "metadata": {},
   "outputs": [
    {
     "name": "stdout",
     "output_type": "stream",
     "text": [
      "[1000, True, 'kashif']\n",
      "['asif', 'hasan', '454743743']\n",
      "['asif', 'hasan', '454743743']\n",
      "['asif']\n"
     ]
    }
   ],
   "source": [
    "# --->      0      1         2        3     4    5     6\n",
    "names = ['asif','hasan','454743743','ali',1000,True,'kashif']\n",
    "# <---      -7     -6        -5       -4     -3   -2    -1\n",
    "\n",
    "\n",
    "print(names[-3:])\n",
    "print(names[0:3])\n",
    "print(names[:3])\n",
    "print(names[:-6])"
   ]
  },
  {
   "cell_type": "markdown",
   "id": "21f38063",
   "metadata": {},
   "source": [
    "# apply operators on list data type\n"
   ]
  },
  {
   "cell_type": "code",
   "execution_count": 44,
   "id": "8ae676eb",
   "metadata": {},
   "outputs": [
    {
     "data": {
      "text/plain": [
       "['pakistan', 1000, 2000, 'abc', 'xyz']"
      ]
     },
     "execution_count": 44,
     "metadata": {},
     "output_type": "execute_result"
    }
   ],
   "source": [
    "l1 = ['pakistan',1000,2000]\n",
    "l2 = ['abc','xyz']\n",
    "\n",
    "l1 + l2"
   ]
  },
  {
   "cell_type": "code",
   "execution_count": 47,
   "id": "cf1756b6",
   "metadata": {},
   "outputs": [
    {
     "name": "stdout",
     "output_type": "stream",
     "text": [
      "['pakistan', 1000, 2000, 'pakistan', 1000, 2000, 'pakistan', 1000, 2000]\n"
     ]
    }
   ],
   "source": [
    "print(l1 * 3)"
   ]
  },
  {
   "cell_type": "code",
   "execution_count": 49,
   "id": "3ccc0ec4",
   "metadata": {},
   "outputs": [
    {
     "name": "stdout",
     "output_type": "stream",
     "text": [
      " pakistan  pakistan  pakistan \n"
     ]
    }
   ],
   "source": [
    "print (' pakistan ' * 3)"
   ]
  },
  {
   "cell_type": "code",
   "execution_count": 50,
   "id": "6619d9ec",
   "metadata": {},
   "outputs": [
    {
     "data": {
      "text/plain": [
       "['asif',\n",
       " 'hasan',\n",
       " '454743743',\n",
       " 'ali',\n",
       " 1000,\n",
       " True,\n",
       " 'kashif',\n",
       " 'asif',\n",
       " 'hasan',\n",
       " '454743743',\n",
       " 'ali',\n",
       " 1000,\n",
       " True,\n",
       " 'kashif',\n",
       " 'asif',\n",
       " 'hasan',\n",
       " '454743743',\n",
       " 'ali',\n",
       " 1000,\n",
       " True,\n",
       " 'kashif']"
      ]
     },
     "execution_count": 50,
     "metadata": {},
     "output_type": "execute_result"
    }
   ],
   "source": [
    "names*3"
   ]
  },
  {
   "cell_type": "markdown",
   "id": "2564da88",
   "metadata": {},
   "source": [
    "# list data type methods"
   ]
  },
  {
   "cell_type": "code",
   "execution_count": 52,
   "id": "91ee7838",
   "metadata": {},
   "outputs": [
    {
     "data": {
      "text/plain": [
       "['append',\n",
       " 'clear',\n",
       " 'copy',\n",
       " 'count',\n",
       " 'extend',\n",
       " 'index',\n",
       " 'insert',\n",
       " 'pop',\n",
       " 'remove',\n",
       " 'reverse',\n",
       " 'sort']"
      ]
     },
     "execution_count": 52,
     "metadata": {},
     "output_type": "execute_result"
    }
   ],
   "source": [
    "[i for i in dir(list) if \"__\" not in i]"
   ]
  },
  {
   "cell_type": "code",
   "execution_count": 57,
   "id": "653704e5",
   "metadata": {},
   "outputs": [
    {
     "name": "stdout",
     "output_type": "stream",
     "text": [
      "['asif', 'hasan', 'ali', [1, 2, 3]]\n"
     ]
    }
   ],
   "source": [
    "names =[]\n",
    "\n",
    "names.append(\"asif\")\n",
    "names.append(\"hasan\")\n",
    "names.append(\"ali\")\n",
    "names.append([1, 2, 3])\n",
    "print(names)"
   ]
  },
  {
   "cell_type": "code",
   "execution_count": 59,
   "id": "f41fb781",
   "metadata": {},
   "outputs": [
    {
     "name": "stdout",
     "output_type": "stream",
     "text": [
      "['pakistan', 7000, 2000]\n",
      "['pakistan', 7000, 2000]\n"
     ]
    }
   ],
   "source": [
    "l1 = ['pakistan',1000,2000]\n",
    "l2 = l1\n",
    "l2[1] = 7000\n",
    "print(l1)\n",
    "print(l2)"
   ]
  },
  {
   "cell_type": "code",
   "execution_count": 60,
   "id": "1ec2c1e9",
   "metadata": {},
   "outputs": [
    {
     "name": "stdout",
     "output_type": "stream",
     "text": [
      "['pakistan', 1000, 2000]\n",
      "['pakistan', 7000, 2000]\n"
     ]
    }
   ],
   "source": [
    "l1 = ['pakistan',1000,2000]\n",
    "l2 = l1.copy()\n",
    "l2[1] = 7000\n",
    "print(l1)\n",
    "print(l2)"
   ]
  },
  {
   "cell_type": "code",
   "execution_count": 61,
   "id": "8f827f9a",
   "metadata": {},
   "outputs": [
    {
     "name": "stdout",
     "output_type": "stream",
     "text": [
      "[1, 2, 3, 'a', 'b', 'c'] ['a', 'b', 'c']\n"
     ]
    }
   ],
   "source": [
    "# in memory\n",
    "l1 = [1,2,3]\n",
    "l2 = ['a','b','c']\n",
    "\n",
    "l1.extend(l2)\n",
    "\n",
    "print(l1,l2)"
   ]
  },
  {
   "cell_type": "code",
   "execution_count": 64,
   "id": "c4d860d3",
   "metadata": {},
   "outputs": [
    {
     "name": "stdout",
     "output_type": "stream",
     "text": [
      "0\n"
     ]
    },
    {
     "ename": "ValueError",
     "evalue": "'a' is not in list",
     "output_type": "error",
     "traceback": [
      "\u001b[1;31m---------------------------------------------------------------------------\u001b[0m",
      "\u001b[1;31mValueError\u001b[0m                                Traceback (most recent call last)",
      "\u001b[1;32m~\\AppData\\Local\\Temp\\ipykernel_11408\\4207828191.py\u001b[0m in \u001b[0;36m<module>\u001b[1;34m\u001b[0m\n\u001b[0;32m      2\u001b[0m \u001b[1;33m\u001b[0m\u001b[0m\n\u001b[0;32m      3\u001b[0m \u001b[0mprint\u001b[0m\u001b[1;33m(\u001b[0m\u001b[0ml1\u001b[0m\u001b[1;33m.\u001b[0m\u001b[0mindex\u001b[0m\u001b[1;33m(\u001b[0m\u001b[1;34m'a'\u001b[0m\u001b[1;33m)\u001b[0m\u001b[1;33m)\u001b[0m\u001b[1;33m\u001b[0m\u001b[1;33m\u001b[0m\u001b[0m\n\u001b[1;32m----> 4\u001b[1;33m \u001b[0mprint\u001b[0m\u001b[1;33m(\u001b[0m\u001b[0ml1\u001b[0m\u001b[1;33m.\u001b[0m\u001b[0mindex\u001b[0m\u001b[1;33m(\u001b[0m\u001b[1;34m'a'\u001b[0m\u001b[1;33m,\u001b[0m\u001b[1;36m1\u001b[0m\u001b[1;33m)\u001b[0m\u001b[1;33m)\u001b[0m\u001b[1;33m\u001b[0m\u001b[1;33m\u001b[0m\u001b[0m\n\u001b[0m",
      "\u001b[1;31mValueError\u001b[0m: 'a' is not in list"
     ]
    }
   ],
   "source": [
    "l1 = ['a', 'b' , 'c' , 'x', 'y' , 'z']\n",
    "\n",
    "print(l1.index('a'))\n",
    "print(l1.index('a',1))"
   ]
  },
  {
   "cell_type": "code",
   "execution_count": 65,
   "id": "371b4be6",
   "metadata": {},
   "outputs": [
    {
     "name": "stdout",
     "output_type": "stream",
     "text": [
      "['a', 'b', 'c', 'x', 'y', 'z']\n",
      "['a', 'b', 'c', 'x', 'y']\n",
      "['a', 'b', 'c', 'x']\n",
      "11\n"
     ]
    }
   ],
   "source": [
    "l1 = ['a', 'b' , 'c' , 'x', 'y' , 'z']\n",
    "\n",
    "print(l1)\n",
    "l1.pop()\n",
    "print(l1)\n",
    "l1.pop()\n",
    "print(l1)\n",
    "l1.pop(0)\n",
    "print(11)"
   ]
  },
  {
   "cell_type": "code",
   "execution_count": 66,
   "id": "a2d6dd61",
   "metadata": {},
   "outputs": [
    {
     "name": "stdout",
     "output_type": "stream",
     "text": [
      "['a', 'b', 'c', 'x', 'y', 'z']\n",
      "['a', 'b', 'c', 'x', 'y']\n",
      "['a', 'b', 'c', 'x']\n",
      "11\n"
     ]
    }
   ],
   "source": [
    "l1 = ['a', 'b' , 'c' , 'x', 'y' , 'z']\n",
    "\n",
    "print(l1)\n",
    "l2.append(l1.pop())\n",
    "print(l1)\n",
    "l2.append(l1.pop())\n",
    "print(l1)\n",
    "l2.append(l1.pop(0))\n",
    "print(11)"
   ]
  },
  {
   "cell_type": "code",
   "execution_count": 71,
   "id": "d56fd1c3",
   "metadata": {},
   "outputs": [
    {
     "name": "stdout",
     "output_type": "stream",
     "text": [
      "['a', 'a', 'b', 'c', 'x', 'y', 'z']\n"
     ]
    }
   ],
   "source": [
    "l1 = ['a', 'b' , 'c' , 'a' , 'x', 'y' , 'z']\n",
    "\n",
    "l1.sort()\n",
    "print(l1)"
   ]
  },
  {
   "cell_type": "code",
   "execution_count": 70,
   "id": "90f446b5",
   "metadata": {},
   "outputs": [
    {
     "name": "stdout",
     "output_type": "stream",
     "text": [
      "['z', 'y', 'x', 'a', 'c', 'b', 'a']\n"
     ]
    }
   ],
   "source": [
    "l1 = ['a', 'b' , 'c' , 'a' , 'x', 'y' , 'z']\n",
    "\n",
    "l1.reverse()\n",
    "print(l1)"
   ]
  },
  {
   "cell_type": "code",
   "execution_count": 72,
   "id": "13fe5fbd",
   "metadata": {},
   "outputs": [
    {
     "name": "stdout",
     "output_type": "stream",
     "text": [
      "['z', 'y', 'x', 'c', 'b', 'a', 'a']\n"
     ]
    }
   ],
   "source": [
    "l1 = ['a', 'b' , 'c' , 'a' , 'x', 'y' , 'z']\n",
    "\n",
    "l1.sort(reverse=True)\n",
    "print(l1)"
   ]
  },
  {
   "cell_type": "markdown",
   "id": "94cc03d4",
   "metadata": {},
   "source": [
    "# Remove value from list search with string"
   ]
  },
  {
   "cell_type": "code",
   "execution_count": 80,
   "id": "355fa9f1",
   "metadata": {},
   "outputs": [
    {
     "name": "stdout",
     "output_type": "stream",
     "text": [
      "Enter item: b\n",
      "b <class 'str'>\n",
      "1 <class 'int'>\n",
      "['a', 'c', 'a', 'x', 'y', 'z']\n"
     ]
    }
   ],
   "source": [
    "l1 = ['a', 'b' , 'c' , 'a' , 'x', 'y' , 'z']\n",
    "\n",
    "remove_item = input(\"Enter item: \")\n",
    "indx = l1.index(remove_item)\n",
    "\n",
    "print(remove_item, type(remove_item))\n",
    "print(indx,type(indx))\n",
    "\n",
    "l1.pop(indx)\n",
    "\n",
    "print(l1)\n"
   ]
  },
  {
   "cell_type": "code",
   "execution_count": 81,
   "id": "3a73cd7f",
   "metadata": {},
   "outputs": [
    {
     "name": "stdout",
     "output_type": "stream",
     "text": [
      "['a', 'b', 'c', 'a', 'y', 'z']\n"
     ]
    }
   ],
   "source": [
    "l1 = ['a', 'b' , 'c' , 'a' , 'x', 'y' , 'z']\n",
    "\n",
    "l1.remove('x')\n",
    "print(l1)"
   ]
  },
  {
   "cell_type": "code",
   "execution_count": 84,
   "id": "34df9790",
   "metadata": {},
   "outputs": [
    {
     "name": "stdout",
     "output_type": "stream",
     "text": [
      "Enter item: z\n",
      "['a', 'b', 'c', 'a', 'x', 'y']\n"
     ]
    }
   ],
   "source": [
    "l1 = ['a', 'b' , 'c' , 'a' , 'x', 'y' , 'z']\n",
    "\n",
    "remove_item = input(\"Enter item: \")\n",
    "l1.remove(remove_item)\n",
    "print(l1)\n",
    "\n"
   ]
  },
  {
   "cell_type": "code",
   "execution_count": null,
   "id": "c1e65400",
   "metadata": {},
   "outputs": [],
   "source": []
  }
 ],
 "metadata": {
  "kernelspec": {
   "display_name": "Python 3 (ipykernel)",
   "language": "python",
   "name": "python3"
  },
  "language_info": {
   "codemirror_mode": {
    "name": "ipython",
    "version": 3
   },
   "file_extension": ".py",
   "mimetype": "text/x-python",
   "name": "python",
   "nbconvert_exporter": "python",
   "pygments_lexer": "ipython3",
   "version": "3.9.13"
  }
 },
 "nbformat": 4,
 "nbformat_minor": 5
}

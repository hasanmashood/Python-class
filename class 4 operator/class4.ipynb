{
 "cells": [
  {
   "cell_type": "code",
   "execution_count": 1,
   "id": "441b8bbc",
   "metadata": {},
   "outputs": [],
   "source": [
    "#python operators\n"
   ]
  },
  {
   "cell_type": "code",
   "execution_count": 4,
   "id": "6ec7a03d",
   "metadata": {},
   "outputs": [
    {
     "name": "stdout",
     "output_type": "stream",
     "text": [
      "4\n",
      "8\n"
     ]
    }
   ],
   "source": [
    "#     oprand   operator     oprand \n",
    "print(2          +               2)\n",
    "print(2+6)"
   ]
  },
  {
   "cell_type": "code",
   "execution_count": 5,
   "id": "aa558560",
   "metadata": {},
   "outputs": [
    {
     "name": "stdout",
     "output_type": "stream",
     "text": [
      "10\n"
     ]
    }
   ],
   "source": [
    "num1 = 7\n",
    "num2 = 3\n",
    "\n",
    "print(num1 + num2) #addition operation"
   ]
  },
  {
   "cell_type": "code",
   "execution_count": 7,
   "id": "7a2ce049",
   "metadata": {},
   "outputs": [
    {
     "name": "stdout",
     "output_type": "stream",
     "text": [
      "11\n"
     ]
    }
   ],
   "source": [
    "num1 = \"1\"\n",
    "num2 = \"1\"\n",
    "\n",
    "print(num1 + num2)#concatenation"
   ]
  },
  {
   "cell_type": "code",
   "execution_count": 13,
   "id": "b5c1ab5d",
   "metadata": {},
   "outputs": [
    {
     "name": "stdout",
     "output_type": "stream",
     "text": [
      "num1:<class 'str'> num2:<class 'str'>\n",
      "12\n"
     ]
    }
   ],
   "source": [
    "num1 = \"1\" # string\n",
    "num2 = \"2\" # integer\n",
    "\n",
    "print(f\"num1:{type(num1)} num2:{type(num2)}\")\n",
    "print(num1 + num2)#concatenation"
   ]
  },
  {
   "cell_type": "code",
   "execution_count": 12,
   "id": "c2934bea",
   "metadata": {},
   "outputs": [
    {
     "name": "stdout",
     "output_type": "stream",
     "text": [
      "num:<class 'list'>) num2:<class 'int'>\n",
      "['a', 'b', 'c'] [1, 2, 3]\n",
      "['a', 'b', 'c', 1, 2, 3]\n"
     ]
    }
   ],
   "source": [
    "l1 = ['a','b','c']\n",
    "l2 = [1,2,3]\n",
    "\n",
    "print(f\"num:{type(l1)}) num2:{type(12)}\")\n",
    "print(l1,l2)\n",
    "print(l1 + l2)"
   ]
  },
  {
   "cell_type": "markdown",
   "id": "a20f1e4a",
   "metadata": {},
   "source": [
    "#python arithemtic operators"
   ]
  },
  {
   "cell_type": "code",
   "execution_count": 14,
   "id": "eef70d74",
   "metadata": {},
   "outputs": [
    {
     "name": "stdout",
     "output_type": "stream",
     "text": [
      "12\n"
     ]
    }
   ],
   "source": [
    "x = 10\n",
    "y = 2\n",
    "print(x + y)"
   ]
  },
  {
   "cell_type": "code",
   "execution_count": 15,
   "id": "743de592",
   "metadata": {},
   "outputs": [
    {
     "name": "stdout",
     "output_type": "stream",
     "text": [
      "8\n"
     ]
    }
   ],
   "source": [
    "x = 10\n",
    "y = 2\n",
    "print(x - y)"
   ]
  },
  {
   "cell_type": "code",
   "execution_count": 16,
   "id": "632720f8",
   "metadata": {},
   "outputs": [
    {
     "name": "stdout",
     "output_type": "stream",
     "text": [
      "20\n"
     ]
    }
   ],
   "source": [
    "x = 10\n",
    "y = 2\n",
    "print(x * y)"
   ]
  },
  {
   "cell_type": "code",
   "execution_count": 17,
   "id": "ae57b888",
   "metadata": {},
   "outputs": [
    {
     "name": "stdout",
     "output_type": "stream",
     "text": [
      "5.0\n"
     ]
    }
   ],
   "source": [
    "x = 10\n",
    "y = 2\n",
    "print(x / y)# float"
   ]
  },
  {
   "cell_type": "code",
   "execution_count": 21,
   "id": "9135b043",
   "metadata": {},
   "outputs": [
    {
     "name": "stdout",
     "output_type": "stream",
     "text": [
      "1\n"
     ]
    }
   ],
   "source": [
    "#modulus\n",
    "x = 19\n",
    "y = 2\n",
    "print(x % y)"
   ]
  },
  {
   "cell_type": "code",
   "execution_count": 25,
   "id": "118c4717",
   "metadata": {},
   "outputs": [
    {
     "name": "stdout",
     "output_type": "stream",
     "text": [
      "4\n",
      "4\n"
     ]
    }
   ],
   "source": [
    "#Exponetation\n",
    "x = 2\n",
    "y = 2\n",
    "print(x ** y)\n",
    "print(2 ** 2)"
   ]
  },
  {
   "cell_type": "code",
   "execution_count": 27,
   "id": "e0cf7352",
   "metadata": {},
   "outputs": [
    {
     "name": "stdout",
     "output_type": "stream",
     "text": [
      "2.5\n",
      "2\n",
      "1.8461538461538463\n",
      "1\n"
     ]
    }
   ],
   "source": [
    "#floor division = jo value point mai hogi us ko neche liaega (for eg 2.9=2)\n",
    "\n",
    "print(5 / 2)\n",
    "print(5 // 2)\n",
    "print(24 / 13)\n",
    "print(24 // 13)"
   ]
  },
  {
   "cell_type": "markdown",
   "id": "0824ade9",
   "metadata": {},
   "source": [
    "# python assignment operators\n"
   ]
  },
  {
   "cell_type": "code",
   "execution_count": 29,
   "id": "de86301d",
   "metadata": {},
   "outputs": [
    {
     "name": "stdout",
     "output_type": "stream",
     "text": [
      "5\n",
      "6\n",
      "6\n",
      "6\n",
      "7\n"
     ]
    }
   ],
   "source": [
    "a = 5\n",
    "print(a)\n",
    "a =a + 1\n",
    "print(a)\n",
    "print(a)\n",
    "print(a)\n",
    "a =a + 1\n",
    "print(a)\n",
    "\n",
    "\n"
   ]
  },
  {
   "cell_type": "code",
   "execution_count": 30,
   "id": "8fc5d42a",
   "metadata": {},
   "outputs": [
    {
     "name": "stdout",
     "output_type": "stream",
     "text": [
      "1\n"
     ]
    }
   ],
   "source": [
    "a = 1   #Assign new value\n",
    "print(a)\n",
    "a = 3  # overwrite old value with 3\n"
   ]
  },
  {
   "cell_type": "code",
   "execution_count": 31,
   "id": "a7deea8f",
   "metadata": {},
   "outputs": [
    {
     "name": "stdout",
     "output_type": "stream",
     "text": [
      "10\n",
      "20\n"
     ]
    }
   ],
   "source": [
    "a = 10\n",
    "print(a)\n",
    "a *=2 \n",
    "print(a)"
   ]
  },
  {
   "cell_type": "markdown",
   "id": "00b83a9c",
   "metadata": {},
   "source": [
    "# Python Comparison Operators\n"
   ]
  },
  {
   "cell_type": "code",
   "execution_count": 34,
   "id": "5c3fd94b",
   "metadata": {},
   "outputs": [
    {
     "name": "stdout",
     "output_type": "stream",
     "text": [
      "True\n"
     ]
    }
   ],
   "source": [
    "a = 5\n",
    "b = 5\n",
    "\n",
    "print(a == b)"
   ]
  },
  {
   "cell_type": "code",
   "execution_count": 36,
   "id": "82ee2e7e",
   "metadata": {},
   "outputs": [
    {
     "name": "stdout",
     "output_type": "stream",
     "text": [
      "False\n"
     ]
    }
   ],
   "source": [
    "a = 5\n",
    "b = 8\n",
    "\n",
    "print( a > b)"
   ]
  },
  {
   "cell_type": "code",
   "execution_count": 37,
   "id": "bbe5ac14",
   "metadata": {},
   "outputs": [
    {
     "name": "stdout",
     "output_type": "stream",
     "text": [
      "True\n"
     ]
    }
   ],
   "source": [
    "a = 5\n",
    "b = 5\n",
    "\n",
    "print(a <= b)"
   ]
  },
  {
   "cell_type": "code",
   "execution_count": 38,
   "id": "bf7da9e1",
   "metadata": {},
   "outputs": [
    {
     "name": "stdout",
     "output_type": "stream",
     "text": [
      "False\n"
     ]
    }
   ],
   "source": [
    "a = 9\n",
    "b = 5\n",
    "\n",
    "print(a <= b)"
   ]
  },
  {
   "cell_type": "code",
   "execution_count": 39,
   "id": "0750079a",
   "metadata": {},
   "outputs": [
    {
     "name": "stdout",
     "output_type": "stream",
     "text": [
      "qasim\n"
     ]
    }
   ],
   "source": [
    "a= 'qasim'\n",
    "b= 'qasim'\n",
    "print(a)"
   ]
  },
  {
   "cell_type": "code",
   "execution_count": 40,
   "id": "71d8c7d1",
   "metadata": {},
   "outputs": [
    {
     "data": {
      "text/plain": [
       "'A'"
      ]
     },
     "execution_count": 40,
     "metadata": {},
     "output_type": "execute_result"
    }
   ],
   "source": [
    "chr(65)"
   ]
  },
  {
   "cell_type": "code",
   "execution_count": 44,
   "id": "97be8a87",
   "metadata": {},
   "outputs": [
    {
     "data": {
      "text/plain": [
       "55"
      ]
     },
     "execution_count": 44,
     "metadata": {},
     "output_type": "execute_result"
    }
   ],
   "source": [
    "ord('7')"
   ]
  },
  {
   "cell_type": "code",
   "execution_count": 45,
   "id": "b8a27334",
   "metadata": {},
   "outputs": [
    {
     "name": "stdout",
     "output_type": "stream",
     "text": [
      "False\n",
      "False\n",
      "True\n"
     ]
    }
   ],
   "source": [
    "a = '65'\n",
    "b = '66'\n",
    "\n",
    "print(a>b)\n",
    "print(a == b)\n",
    "print(a < b)\n",
    "\n"
   ]
  },
  {
   "cell_type": "code",
   "execution_count": 46,
   "id": "6cf6e89e",
   "metadata": {},
   "outputs": [],
   "source": [
    "# Python Logical Operators\n"
   ]
  },
  {
   "cell_type": "markdown",
   "id": "15331cbd",
   "metadata": {},
   "source": [
    " \n",
    "\n"
   ]
  },
  {
   "cell_type": "code",
   "execution_count": 50,
   "id": "94e639ef",
   "metadata": {},
   "outputs": [
    {
     "name": "stdout",
     "output_type": "stream",
     "text": [
      "True\n",
      "False\n",
      "False\n"
     ]
    }
   ],
   "source": [
    "#        l  op   l  op     l       op\n",
    "print(True and True and True and True)\n",
    "print(True and True and False and True)\n",
    "print(False and False and False and False)\n"
   ]
  },
  {
   "cell_type": "code",
   "execution_count": 51,
   "id": "a3708a15",
   "metadata": {},
   "outputs": [
    {
     "name": "stdout",
     "output_type": "stream",
     "text": [
      "True\n",
      "True\n",
      "False\n"
     ]
    }
   ],
   "source": [
    "#        l  op   l  op     l       op\n",
    "print(True or True or True or True)\n",
    "print(True or True or False or True)\n",
    "print(False or False or False or False)\n"
   ]
  },
  {
   "cell_type": "code",
   "execution_count": 54,
   "id": "0841e1b5",
   "metadata": {},
   "outputs": [
    {
     "data": {
      "text/plain": [
       "False"
      ]
     },
     "execution_count": 54,
     "metadata": {},
     "output_type": "execute_result"
    }
   ],
   "source": [
    "not True\n",
    "\n"
   ]
  },
  {
   "cell_type": "code",
   "execution_count": 55,
   "id": "5ec059e6",
   "metadata": {},
   "outputs": [
    {
     "data": {
      "text/plain": [
       "True"
      ]
     },
     "execution_count": 55,
     "metadata": {},
     "output_type": "execute_result"
    }
   ],
   "source": [
    "not False"
   ]
  },
  {
   "cell_type": "code",
   "execution_count": 1,
   "id": "d6954fb8",
   "metadata": {},
   "outputs": [
    {
     "name": "stdout",
     "output_type": "stream",
     "text": [
      "enter your passwordpakistan\n",
      "False\n",
      "True\n",
      "False\n",
      "True\n",
      "pakistan\n"
     ]
    }
   ],
   "source": [
    "password = input('enter your password')\n",
    "print(password=='abc')\n",
    "print(not password=='abc')\n",
    "print(not True)\n",
    "print(not False)\n",
    "print(password)"
   ]
  },
  {
   "cell_type": "markdown",
   "id": "0a3f98e3",
   "metadata": {},
   "source": [
    "# Python Identity Operators\n",
    "\n",
    "\n",
    "\n"
   ]
  },
  {
   "cell_type": "markdown",
   "id": "d691dcdf",
   "metadata": {},
   "source": [
    "# Shallow copy"
   ]
  },
  {
   "cell_type": "code",
   "execution_count": 59,
   "id": "062373cb",
   "metadata": {},
   "outputs": [
    {
     "name": "stdout",
     "output_type": "stream",
     "text": [
      "2631278422448 2631278422448 2631278422448\n",
      "5\n",
      "5\n",
      "5\n"
     ]
    }
   ],
   "source": [
    "a = 5\n",
    "b = 5\n",
    "c = 5\n",
    "\n",
    "print(id(a), id(b),id(c))\n",
    "print(a)\n",
    "print(b)\n",
    "print(c)"
   ]
  },
  {
   "cell_type": "code",
   "execution_count": 61,
   "id": "56715994",
   "metadata": {},
   "outputs": [
    {
     "name": "stdout",
     "output_type": "stream",
     "text": [
      "2631279351728 2631278422448\n"
     ]
    }
   ],
   "source": [
    "a = 5\n",
    "a = '5'\n",
    "print(id(a), id(b))"
   ]
  },
  {
   "cell_type": "code",
   "execution_count": 62,
   "id": "e5400620",
   "metadata": {},
   "outputs": [
    {
     "name": "stdout",
     "output_type": "stream",
     "text": [
      "2631278422448 2631278422448\n"
     ]
    }
   ],
   "source": [
    "a = 5\n",
    "a = 5\n",
    "print(id(a), id(b))"
   ]
  },
  {
   "cell_type": "markdown",
   "id": "c5c278ca",
   "metadata": {},
   "source": [
    "# Deep copy"
   ]
  },
  {
   "cell_type": "code",
   "execution_count": 64,
   "id": "74fd9091",
   "metadata": {},
   "outputs": [
    {
     "name": "stdout",
     "output_type": "stream",
     "text": [
      "['hasan'] ['hasan']\n",
      "2631362821056 2631362793024\n",
      "True\n",
      "False\n"
     ]
    }
   ],
   "source": [
    "saylani = [\"hasan\"]\n",
    "student = saylani.copy()\n",
    "\n",
    "print(saylani, student)\n",
    "print(id(saylani), id(student))\n",
    "print(saylani == student)\n",
    "print(saylani is student)\n"
   ]
  },
  {
   "cell_type": "markdown",
   "id": "82d4824f",
   "metadata": {},
   "source": [
    "# Python Membership Operators\n"
   ]
  },
  {
   "cell_type": "code",
   "execution_count": 68,
   "id": "491bfc7c",
   "metadata": {},
   "outputs": [
    {
     "name": "stdout",
     "output_type": "stream",
     "text": [
      "True\n",
      "False\n",
      "False\n"
     ]
    }
   ],
   "source": [
    "message = \"pakistan zinda bad we love our country\"\n",
    "\n",
    "print('zinda' in message)\n",
    "print('Zinda' in message)\n",
    "print('hasan' in message)"
   ]
  },
  {
   "cell_type": "code",
   "execution_count": 69,
   "id": "9ce7acb4",
   "metadata": {},
   "outputs": [
    {
     "name": "stdout",
     "output_type": "stream",
     "text": [
      "True\n",
      "False\n"
     ]
    }
   ],
   "source": [
    "names = ['Qasim','Hasan','junaid',\"yasir\"]\n",
    "print('Hasan' in names)\n",
    "print('yasir' not in names)"
   ]
  },
  {
   "cell_type": "code",
   "execution_count": null,
   "id": "e9ba3520",
   "metadata": {},
   "outputs": [],
   "source": []
  }
 ],
 "metadata": {
  "kernelspec": {
   "display_name": "Python 3 (ipykernel)",
   "language": "python",
   "name": "python3"
  },
  "language_info": {
   "codemirror_mode": {
    "name": "ipython",
    "version": 3
   },
   "file_extension": ".py",
   "mimetype": "text/x-python",
   "name": "python",
   "nbconvert_exporter": "python",
   "pygments_lexer": "ipython3",
   "version": "3.9.13"
  }
 },
 "nbformat": 4,
 "nbformat_minor": 5
}
